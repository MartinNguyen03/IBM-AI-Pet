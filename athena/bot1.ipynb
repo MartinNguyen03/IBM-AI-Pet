{
 "cells": [
  {
   "cell_type": "code",
   "execution_count": 1,
   "metadata": {},
   "outputs": [
    {
     "name": "stdout",
     "output_type": "stream",
     "text": [
      "pygame 2.5.2 (SDL 2.28.3, Python 3.11.9)\n",
      "Hello from the pygame community. https://www.pygame.org/contribute.html\n"
     ]
    },
    {
     "name": "stderr",
     "output_type": "stream",
     "text": [
      "[nltk_data] Downloading package stopwords to\n",
      "[nltk_data]     C:\\Users\\Jerry\\AppData\\Roaming\\nltk_data...\n",
      "[nltk_data]   Package stopwords is already up-to-date!\n",
      "[nltk_data] Downloading package punkt to\n",
      "[nltk_data]     C:\\Users\\Jerry\\AppData\\Roaming\\nltk_data...\n",
      "[nltk_data]   Package punkt is already up-to-date!\n",
      "[nltk_data] Downloading package wordnet to\n",
      "[nltk_data]     C:\\Users\\Jerry\\AppData\\Roaming\\nltk_data...\n",
      "[nltk_data]   Package wordnet is already up-to-date!\n"
     ]
    }
   ],
   "source": [
    "import cv2\n",
    "import tensorflow as tf\n",
    "import pywinctl as pwc\n",
    "import threading\n",
    "\n",
    "from face import load_model, remember\n",
    "from bot import Bot, look_and_display\n",
    "from os import environ\n",
    "from IPython.display import clear_output\n",
    "environ['PYGAME_HIDE_SUPPORT_PROMPT'] = '1'\n",
    "import pygame, sys"
   ]
  },
  {
   "cell_type": "code",
   "execution_count": 3,
   "metadata": {},
   "outputs": [
    {
     "name": "stdout",
     "output_type": "stream",
     "text": [
      "Loading assets...\n",
      "Done\n"
     ]
    }
   ],
   "source": [
    "bot = Bot(180, 150)"
   ]
  },
  {
   "cell_type": "code",
   "execution_count": 4,
   "metadata": {},
   "outputs": [
    {
     "name": "stdout",
     "output_type": "stream",
     "text": [
      "Adjusting for ambient noise... Please wait.\n",
      "Adjusted. Start speaking.\n",
      "Listening...\n",
      "Processing...\n",
      "Listening...\n",
      "Processing...\n",
      "Recognized: hi\n",
      "Error occurred: 'text'\n",
      "Error occurred: 'text'\n",
      "Error occurred: 'text'\n",
      "Error occurred: 'text'\n",
      "Watson Response: Failed to get a valid response from Watson Assistant after multiple attempts.\n",
      "Adjusting for ambient noise... Please wait.\n",
      "Adjusted. Start speaking.\n",
      "Listening...\n",
      "Processing...\n",
      "Listening...\n"
     ]
    }
   ],
   "source": [
    "if __name__ ==\"__main__\":\n",
    "    t1 = threading.Thread(target=look_and_display, args = (bot, ))\n",
    "    t2 = threading.Thread(target=bot.chatbot)\n",
    "\n",
    "    t1.start()\n",
    "    t2.start()\n",
    "\n",
    "    t1.join()\n",
    "    t2.join()"
   ]
  }
 ],
 "metadata": {
  "kernelspec": {
   "display_name": "Python 3",
   "language": "python",
   "name": "python3"
  },
  "language_info": {
   "codemirror_mode": {
    "name": "ipython",
    "version": 3
   },
   "file_extension": ".py",
   "mimetype": "text/x-python",
   "name": "python",
   "nbconvert_exporter": "python",
   "pygments_lexer": "ipython3",
   "version": "3.11.9"
  }
 },
 "nbformat": 4,
 "nbformat_minor": 2
}
